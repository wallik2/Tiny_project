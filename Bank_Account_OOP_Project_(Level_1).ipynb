{
  "nbformat": 4,
  "nbformat_minor": 0,
  "metadata": {
    "colab": {
      "name": "Bank Account OOP Project (Level 1)",
      "provenance": [],
      "toc_visible": true,
      "authorship_tag": "ABX9TyOYo3wX6V3W9SMtczOB/hTp",
      "include_colab_link": true
    },
    "kernelspec": {
      "name": "python3",
      "display_name": "Python 3"
    }
  },
  "cells": [
    {
      "cell_type": "markdown",
      "metadata": {
        "id": "view-in-github",
        "colab_type": "text"
      },
      "source": [
        "<a href=\"https://colab.research.google.com/github/wallik2/Tiny_project/blob/main/Bank_Account_OOP_Project_(Level_1).ipynb\" target=\"_parent\"><img src=\"https://colab.research.google.com/assets/colab-badge.svg\" alt=\"Open In Colab\"/></a>"
      ]
    },
    {
      "cell_type": "code",
      "metadata": {
        "id": "JBiquZK8YV3n"
      },
      "source": [
        "import time"
      ],
      "execution_count": null,
      "outputs": []
    },
    {
      "cell_type": "code",
      "metadata": {
        "id": "qCnZWa8OalUR"
      },
      "source": [
        "class UserPass:\r\n",
        "  \r\n",
        "  status_1 = input('Do you have account already?')\r\n",
        "  #If status = \r\n",
        "\r\n",
        "\r\n",
        "\r\n",
        "  def __init__(self):\r\n",
        "    return "
      ],
      "execution_count": null,
      "outputs": []
    },
    {
      "cell_type": "code",
      "metadata": {
        "id": "M3V0NHu38CIa"
      },
      "source": [
        "class BankAccount:\r\n",
        "\r\n",
        "# Open Account Zone\r\n",
        "  def __init__(self,first_name,last_name,amount=0):\r\n",
        "    self.first_name = first_name \r\n",
        "    self.last_name = last_name \r\n",
        "    self.balance = amount\r\n",
        "    return self.Interest_statement()\r\n",
        "\r\n",
        "  #@property\r\n",
        "  def Interest_statement(self):\r\n",
        "    \r\n",
        "    statement = input('Do you want to activate a Fixed deposit account? (y/n) : ')\r\n",
        "    if statement == 'y': \r\n",
        "      self.status = \"Fixed deposit Account\"\r\n",
        "      return self.Fixed_deposit_Account()\r\n",
        "    elif statement == 'n':\r\n",
        "      self.status = \"Saving Account\"\r\n",
        "      print('Your account is a saving account ')\r\n",
        "    else:\r\n",
        "      print('Please enter only \"y\" or \"n\"')\r\n",
        "      return self.Interest_statement()\r\n",
        "\r\n",
        "\r\n",
        "#Financial Zone\r\n",
        "\r\n",
        "  def Check_Balance(self):\r\n",
        "    print('Your Current balance is {}'.format(self.balance))\r\n",
        "\r\n",
        "  def deposit(self, amount):\r\n",
        "    self.balance = self.balance + amount\r\n",
        "\r\n",
        "  def withdraw(self, amount):\r\n",
        "    \r\n",
        "    if amount >= self.balance:\r\n",
        "      print('Insufficient funds ! \\nour current balance is {}'.format(self.balance))\r\n",
        "\r\n",
        "    elif self.status == \"Banned\":\r\n",
        "      print('you are not allowed to withdraw the money')\r\n",
        "\r\n",
        "    else: \r\n",
        "      self.balance = self.balance - amount\r\n",
        "\r\n",
        "\r\n",
        "    \r\n",
        "  def transfer(self,Recipient,amount):\r\n",
        "\r\n",
        "    if amount >= self.balance:\r\n",
        "      print('Insufficient funds ! \\nyour current balance is {}'.format(self.balance))\r\n",
        "\r\n",
        "    elif self.status == \"Fixed_deposit_Account\":\r\n",
        "      print('you are not allowed to withdraw the money')\r\n",
        "\r\n",
        "    else: \r\n",
        "      self.balance = self.balance - amount\r\n",
        "\r\n",
        "      Recipient.balance = Recipient.balance + amount\r\n",
        "\r\n",
        "      print('Transaction successfully')\r\n",
        "\r\n",
        "# Interest Zone\r\n",
        "  def Fixed_deposit_Account(self):\r\n",
        "    \"\"\"after 0.1 minute you got the interest 5%\"\"\"\r\n",
        "   \r\n",
        "    time.sleep(6)\r\n",
        "    \r\n",
        "    self.balance *= 1.05\r\n",
        "\r\n",
        "\r\n",
        "\r\n",
        "\r\n",
        "# Personal Information Zone\r\n",
        "\r\n",
        "  @property\r\n",
        "  def full_name(self):\r\n",
        "    return '{} {}'.format(self.first_name,self.last_name)\r\n",
        "  \r\n",
        "  @full_name.setter\r\n",
        "  def full_name(self,new_full_name):\r\n",
        "    first_name, last_name = new_full_name.split(\" \")\r\n",
        "    self.first_name = first_name\r\n",
        "    self.last_name = last_name\r\n",
        "  \r\n",
        "\r\n",
        "\r\n",
        "\r\n",
        "# Checking current personal stuff\r\n",
        "\r\n",
        "  def Check_Balance(self):\r\n",
        "    print('Your Current balance is {}'.format(self.balance))\r\n",
        "\r\n",
        "  def Check_Status(self):\r\n",
        "    print(self.status)\r\n",
        "      "
      ],
      "execution_count": null,
      "outputs": []
    },
    {
      "cell_type": "markdown",
      "metadata": {
        "id": "PlnUv3dkW3nb"
      },
      "source": [
        "# New Section"
      ]
    },
    {
      "cell_type": "code",
      "metadata": {
        "colab": {
          "base_uri": "https://localhost:8080/"
        },
        "id": "ZdUfBFQXa2k-",
        "outputId": "c1b8af0f-4ee5-4326-b1b2-964f0103626a"
      },
      "source": [
        "Nuchpol_Acc = BankAccount('Nuchpol','Arpassompob',500)"
      ],
      "execution_count": null,
      "outputs": [
        {
          "output_type": "stream",
          "text": [
            "Do you want to activate a Fixed deposit account? (y/n) : y\n"
          ],
          "name": "stdout"
        }
      ]
    },
    {
      "cell_type": "code",
      "metadata": {
        "colab": {
          "base_uri": "https://localhost:8080/"
        },
        "id": "inQYYo50bbDW",
        "outputId": "bbe3667a-0e8c-4ac0-e56e-d2bd48812536"
      },
      "source": [
        "Nuchpol_Acc.balance"
      ],
      "execution_count": null,
      "outputs": [
        {
          "output_type": "execute_result",
          "data": {
            "text/plain": [
              "525.0"
            ]
          },
          "metadata": {
            "tags": []
          },
          "execution_count": 27
        }
      ]
    },
    {
      "cell_type": "code",
      "metadata": {
        "id": "IE7gd_H4eWd3"
      },
      "source": [
        "Nuchpol_Acc.withdraw(100)"
      ],
      "execution_count": null,
      "outputs": []
    },
    {
      "cell_type": "code",
      "metadata": {
        "colab": {
          "base_uri": "https://localhost:8080/"
        },
        "id": "Xli1oLOZV4Ai",
        "outputId": "10232554-40e4-4e73-f8b1-68dc58b32c4a"
      },
      "source": [
        "Nuchpol_Acc.Check_Status()"
      ],
      "execution_count": null,
      "outputs": [
        {
          "output_type": "stream",
          "text": [
            "Fixed_deposit_Account\n"
          ],
          "name": "stdout"
        }
      ]
    },
    {
      "cell_type": "code",
      "metadata": {
        "colab": {
          "base_uri": "https://localhost:8080/"
        },
        "id": "QkFpvOXGdA4O",
        "outputId": "3c98547c-f736-480b-9415-a2b5b274d8bf"
      },
      "source": [
        "Nuchpol_Acc.Interest_statement"
      ],
      "execution_count": null,
      "outputs": [
        {
          "output_type": "execute_result",
          "data": {
            "text/plain": [
              "<bound method BankAccount.Interest_statement of <__main__.BankAccount object at 0x7f5cad1d0710>>"
            ]
          },
          "metadata": {
            "tags": []
          },
          "execution_count": 59
        }
      ]
    },
    {
      "cell_type": "code",
      "metadata": {
        "id": "_x7A5wk9RDuj",
        "colab": {
          "base_uri": "https://localhost:8080/"
        },
        "outputId": "395419ba-4716-4413-a3ee-aa57f7d17999"
      },
      "source": [
        "Saran_Acc = BankAccount('Saran','Pannasuriyaporn',500)"
      ],
      "execution_count": null,
      "outputs": [
        {
          "output_type": "stream",
          "text": [
            "Do you want to activate a Fixed deposit account? (y/n) : n\n",
            "Your account is a saving account \n"
          ],
          "name": "stdout"
        }
      ]
    },
    {
      "cell_type": "markdown",
      "metadata": {
        "id": "xM39dr3qMF-i"
      },
      "source": [
        "\r\n",
        "\r\n",
        "---\r\n",
        "\r\n",
        "## End User Zone\r\n",
        "\r\n"
      ]
    },
    {
      "cell_type": "code",
      "metadata": {
        "id": "o0dX_sxuKtMj"
      },
      "source": [
        "All_Acc ={'Kasemwat':Nuchpol_Acc, 'Saran':Saran_Acc }"
      ],
      "execution_count": null,
      "outputs": []
    },
    {
      "cell_type": "code",
      "metadata": {
        "colab": {
          "base_uri": "https://localhost:8080/"
        },
        "id": "M5p_CFh5Je4y",
        "outputId": "2f1d2fb4-9478-430a-c882-c821585e44ae"
      },
      "source": [
        "amount = int(input('Enter amount : '))\r\n",
        "recipient = input('Enter your recipient : ')\r\n",
        "\r\n",
        "Saran_Acc.transfer(All_Acc[recipient],amount)"
      ],
      "execution_count": null,
      "outputs": [
        {
          "output_type": "stream",
          "text": [
            "Enter amount : 100\n",
            "Enter your recipient : Kasemwat\n",
            "Transaction successfully\n"
          ],
          "name": "stdout"
        }
      ]
    },
    {
      "cell_type": "code",
      "metadata": {
        "colab": {
          "base_uri": "https://localhost:8080/"
        },
        "id": "MQqsRxXPMsP8",
        "outputId": "31ac7fe0-63b9-450e-e6e8-128268283d4d"
      },
      "source": [
        "Saran_Acc.Check_Balance()"
      ],
      "execution_count": null,
      "outputs": [
        {
          "output_type": "stream",
          "text": [
            "Your Current balance is 400\n"
          ],
          "name": "stdout"
        }
      ]
    },
    {
      "cell_type": "code",
      "metadata": {
        "colab": {
          "base_uri": "https://localhost:8080/"
        },
        "id": "cgpzN2ngL7Yk",
        "outputId": "64a16435-21f7-41fe-fa94-aa9c16d635d2"
      },
      "source": [
        "#print('Earth : {}, \\nand Saran : {} :'.format(Kasemwat_Acc.Check_Balance(),Saran_Acc.Check_Balance))"
      ],
      "execution_count": null,
      "outputs": [
        {
          "output_type": "stream",
          "text": [
            "Your Current balance is 540\n",
            "Earth : None, \n",
            "and Saran : <bound method BankAccount.Check_Balance of <__main__.BankAccount object at 0x7f5cad23aac8>> :\n"
          ],
          "name": "stdout"
        }
      ]
    }
  ]
}