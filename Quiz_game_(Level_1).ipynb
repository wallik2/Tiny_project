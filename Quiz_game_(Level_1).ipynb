{
  "nbformat": 4,
  "nbformat_minor": 0,
  "metadata": {
    "colab": {
      "name": "Quiz game (Level 1)",
      "provenance": [],
      "authorship_tag": "ABX9TyMMfm8ojmdSRxKt0g9Z2LaX",
      "include_colab_link": true
    },
    "kernelspec": {
      "name": "python3",
      "display_name": "Python 3"
    }
  },
  "cells": [
    {
      "cell_type": "markdown",
      "metadata": {
        "id": "view-in-github",
        "colab_type": "text"
      },
      "source": [
        "<a href=\"https://colab.research.google.com/github/wallik2/Tiny_project/blob/main/Quiz_game_(Level_1).ipynb\" target=\"_parent\"><img src=\"https://colab.research.google.com/assets/colab-badge.svg\" alt=\"Open In Colab\"/></a>"
      ]
    },
    {
      "cell_type": "code",
      "metadata": {
        "id": "aNrGD-lm94i_"
      },
      "source": [
        "import random"
      ],
      "execution_count": null,
      "outputs": []
    },
    {
      "cell_type": "code",
      "metadata": {
        "id": "vBdMwuYCcA6F"
      },
      "source": [
        "class Game:\r\n",
        "\r\n",
        "  #random_game = {1:self.Q_1(),2:self.Q_2(),3:self.Q_3()}\r\n",
        "\r\n",
        "  LeaderBoarder = {}\r\n",
        "  Sorted_Boarder = []\r\n",
        "\r\n",
        "  def __init__(self,name):\r\n",
        "    self.name = name\r\n",
        "    self.score = 0\r\n",
        "\r\n",
        "    return self.Gameplay()\r\n",
        "\r\n",
        "\r\n",
        "\r\n",
        "  def Q_1(self):\r\n",
        "    print('What is 2+2')\r\n",
        "    answer = input('Type your answer here: ')\r\n",
        "    if (answer == '4'):\r\n",
        "      self.score +=1\r\n",
        "\r\n",
        "    else:\r\n",
        "      pass\r\n",
        "\r\n",
        "  def Q_2(self):   \r\n",
        "    print('The most antioxidant fruit ?')\r\n",
        "    answer = input('Type your answer here: ')\r\n",
        "\r\n",
        "    if (answer == 'Indian gooseberry' or answer == 'amla' ):\r\n",
        "      self.score += 150\r\n",
        "      print('BAM, you got 150 points')\r\n",
        "    \r\n",
        "    elif (answer == 'CheeseBurger'):\r\n",
        "      self.score -= 80\r\n",
        "\r\n",
        "    else:\r\n",
        "      pass\r\n",
        "\r\n",
        "  def Q_3(self):\r\n",
        "    print('What is square root of 144')\r\n",
        "    answer = input('Type your answer here: ')\r\n",
        "\r\n",
        "    if (answer == '12'):\r\n",
        "       self.score += 10\r\n",
        "\r\n",
        "    else:\r\n",
        "      pass\r\n",
        "\r\n",
        "  \r\n",
        "\r\n",
        "###############################################################################\r\n",
        "\r\n",
        "\r\n",
        "  def Gameplay(self):\r\n",
        "    \r\n",
        "    random_game = {1:self.Q_1, 2:self.Q_2, 3:self.Q_3}\r\n",
        "\r\n",
        "    #cls = self.__class__\r\n",
        "    #random_game = {1:self.Q_1(),2:self.Q_2(),3:self.Q_3()}\r\n",
        "\r\n",
        "    x = random.sample([1,2,3],3)\r\n",
        "\r\n",
        "    for i in x:\r\n",
        "      random_game[i]()\r\n",
        "      print('####################################\\n\\n')\r\n",
        "    return self.sumup()\r\n",
        "\r\n",
        "  def sumup(self):\r\n",
        "      print('you got', self.score)      \r\n",
        "      return self.LeaderBoard()\r\n",
        "\r\n",
        "  #@classmethod\r\n",
        "  def LeaderBoard(self):\r\n",
        "    \r\n",
        "    cls = self.__class__\r\n",
        "    cls.LeaderBoarder[self.name] = self.score   \r\n",
        "\r\n",
        "    cls.sorted_Boarder = sorted(cls.LeaderBoarder.items(), key=lambda x: x[1], reverse=True)\r\n",
        "\r\n",
        "    print('\\n\\n\\n\\n\\n\\n Current Leaderboard\\n')\r\n",
        "\r\n",
        "    for i in cls.sorted_Boarder:\r\n",
        "\t    print(i[0], i[1])       "
      ],
      "execution_count": null,
      "outputs": []
    },
    {
      "cell_type": "code",
      "metadata": {
        "colab": {
          "base_uri": "https://localhost:8080/"
        },
        "id": "VSs3KeoYeoEG",
        "outputId": "c657544e-2649-4e8a-c269-89d387dfaa6f"
      },
      "source": [
        "Saran = Game('Saran')"
      ],
      "execution_count": null,
      "outputs": [
        {
          "output_type": "stream",
          "text": [
            "What is square root of 144\n",
            "Type your answer here: 12\n",
            "####################################\n",
            "\n",
            "\n",
            "What is 2+2\n",
            "Type your answer here: 4\n",
            "####################################\n",
            "\n",
            "\n",
            "The most antioxidant fruit ?\n",
            "Type your answer here: 5\n",
            "####################################\n",
            "\n",
            "\n",
            "you got 11\n",
            "\n",
            "\n",
            "\n",
            "\n",
            "\n",
            "\n",
            " Current Leaderboard\n",
            "\n",
            "Saran 11\n"
          ],
          "name": "stdout"
        }
      ]
    },
    {
      "cell_type": "code",
      "metadata": {
        "colab": {
          "base_uri": "https://localhost:8080/"
        },
        "id": "fxo4hGygy1fW",
        "outputId": "a124810c-1b96-45e4-d779-46a2e197c980"
      },
      "source": [
        "Earth = Game('Earth')"
      ],
      "execution_count": null,
      "outputs": [
        {
          "output_type": "stream",
          "text": [
            "What is 2+2\n",
            "Type your answer here: 4\n",
            "####################################\n",
            "\n",
            "\n",
            "The most antioxidant fruit ?\n",
            "Type your answer here: amla\n",
            "BAM, you got 150 points\n",
            "####################################\n",
            "\n",
            "\n",
            "What is square root of 144\n",
            "Type your answer here: 12\n",
            "####################################\n",
            "\n",
            "\n",
            "you got 161\n",
            "\n",
            "\n",
            "\n",
            "\n",
            "\n",
            "\n",
            " Current Leaderboard\n",
            "\n",
            "Earth 161\n",
            "Saran 11\n"
          ],
          "name": "stdout"
        }
      ]
    },
    {
      "cell_type": "code",
      "metadata": {
        "colab": {
          "base_uri": "https://localhost:8080/"
        },
        "id": "RyAFhk-r2sho",
        "outputId": "0bb1fba4-b597-405d-ea3f-25a3cfd0354a"
      },
      "source": [
        "Junior = Game('Junior')"
      ],
      "execution_count": null,
      "outputs": [
        {
          "output_type": "stream",
          "text": [
            "What is square root of 144\n",
            "Type your answer here: 12\n",
            "####################################\n",
            "\n",
            "\n",
            "The most antioxidant fruit ?\n",
            "Type your answer here: amla\n",
            "BAM, you got 150 points\n",
            "####################################\n",
            "\n",
            "\n",
            "What is 2+2\n",
            "Type your answer here: 0\n",
            "####################################\n",
            "\n",
            "\n",
            "you got 160\n",
            "\n",
            "\n",
            "\n",
            "\n",
            "\n",
            "\n",
            " Current Leaderboard\n",
            "\n",
            "Earth 161\n",
            "Junior 160\n",
            "Saran 11\n"
          ],
          "name": "stdout"
        }
      ]
    },
    {
      "cell_type": "markdown",
      "metadata": {
        "id": "cnq0drRipU68"
      },
      "source": [
        "\r\n",
        "\r\n",
        "---\r\n",
        "\r\n"
      ]
    }
  ]
}